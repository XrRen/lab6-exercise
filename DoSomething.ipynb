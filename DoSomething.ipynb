{
 "cells": [
  {
   "cell_type": "code",
<<<<<<< HEAD
   "execution_count": 8,
   "metadata": {},
   "outputs": [
    {
     "name": "stdout",
     "output_type": "stream",
     "text": [
      "Hello there!\n"
     ]
    },
    {
     "name": "stdin",
     "output_type": "stream",
     "text": [
      "what's your name?  Xirui\n"
     ]
    },
    {
     "name": "stdout",
     "output_type": "stream",
     "text": [
      "Hello Xirui!\n"
     ]
    },
    {
     "name": "stdin",
     "output_type": "stream",
     "text": [
      "How old are you? 18\n"
     ]
    },
    {
     "name": "stdout",
     "output_type": "stream",
     "text": [
      "Wow! You're 18 years old! That's so cool!\n"
     ]
    },
    {
     "name": "stdin",
     "output_type": "stream",
     "text": [
      "How's your day, today? Is it good or bad? fine\n"
     ]
    },
    {
     "name": "stdout",
     "output_type": "stream",
     "text": [
      "yeah, what a life!\n"
     ]
    }
   ],
   "source": [
    "print(\"Hello there!\")\n",
    "name = input(\"what's your name? \")\n",
    "print(\"Hello \" + name + \"!\")\n",
    "age = input(\"How old are you?\")\n",
    "if(int(age) < 18):\n",
    "    print(\"Oh, you are so young!\")\n",
    "elif(int(age) == 18):\n",
    "    print(\"Wow! You're 18 years old! That's so cool!\")\n",
    "else:\n",
    "    print(\"Oh wow! You looks so young that I can't believe you are \" + age + \" years old!\")\n",
    "feel = input(\"How's your day, today? Is it good or bad?\")\n",
    "if(feel.lower() == \"good\"):\n",
    "    print(\"I'm glad to hear that!\")\n",
    "    \n",
    "elif(feel.lower()==\"bad\"):\n",
    "    print(\"Oh, I wish you could have a better experience later!\")\n",
    "else:\n",
    "    print(\"yeah, what a life!\")\n"
=======
   "execution_count": null,
   "metadata": {},
   "outputs": [],
   "source": [
    "name = input(\"please enter a name\")\n",
    "year = input(\"Hello, \" + str(name) + \". What year were you born?\")\n",
    "year = int(year)\n",
    "age = 2022 - year\n",
    "print(\"Y\")"
>>>>>>> dec0ff4ec2256808bd7112539df4afb83ded88f8
   ]
  },
  {
   "cell_type": "code",
   "execution_count": 5,
   "metadata": {},
   "outputs": [
    {
     "name": "stdin",
     "output_type": "stream",
     "text": [
      "What is your name? emily\n",
      "Hello emily! What year were you born? 2003\n",
      "What month were you born? (please enter in number form ex (1 = January)) 12\n"
     ]
    },
    {
     "name": "stdout",
     "output_type": "stream",
     "text": [
      "You are 18 years old!\n"
     ]
    }
   ],
   "source": [
    "name = input(\"What is your name?\")\n",
    "year = input(\"Hello \" + name + \"! What year were you born?\")\n",
    "year = int(year)\n",
    "month = input(\"What month were you born? (please enter in number form ex (1 = January))\")\n",
    "month = int(month)\n",
    "if(month == 10):\n",
    "    print(\"Your birthday is this month! Hopefully its a good one!\")\n",
    "elif(month < 10):\n",
    "    age = 2022-year\n",
    "    print(\"You are \" + str(age) + \" years old!\")\n",
    "else:\n",
    "    age = 2021-year\n",
    "    print(\"You are \" + str(age) + \" years old!\")"
   ]
  },
  {
   "cell_type": "code",
   "execution_count": null,
   "metadata": {},
   "outputs": [],
   "source": []
  }
 ],
 "metadata": {
  "kernelspec": {
   "display_name": "Python 3",
   "language": "python",
   "name": "python3"
  },
  "language_info": {
   "codemirror_mode": {
    "name": "ipython",
    "version": 3
   },
   "file_extension": ".py",
   "mimetype": "text/x-python",
   "name": "python",
   "nbconvert_exporter": "python",
   "pygments_lexer": "ipython3",
   "version": "3.8.3"
  }
 },
 "nbformat": 4,
 "nbformat_minor": 4
}
